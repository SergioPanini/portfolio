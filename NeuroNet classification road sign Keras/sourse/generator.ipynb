{
 "cells": [
  {
   "cell_type": "code",
   "execution_count": 2,
   "metadata": {},
   "outputs": [],
   "source": [
    "import numpy as np\n",
    "from tensorflow.python.keras.preprocessing.image import ImageDataGenerator\n",
    "from tensorflow.python.keras.models import Sequential\n",
    "from tensorflow.python.keras.layers import Conv2D, MaxPooling2D\n",
    "from tensorflow.python.keras.layers import Activation, Dropout, Flatten, Dense\n",
    "from tensorflow.python.keras.preprocessing import image"
   ]
  },
  {
   "cell_type": "code",
   "execution_count": 3,
   "metadata": {},
   "outputs": [
    {
     "name": "stdout",
     "output_type": "stream",
     "text": [
      "Found 13220 images belonging to 9 classes.\n",
      "Found 13220 images belonging to 9 classes.\n",
      "Found 255 images belonging to 9 classes.\n"
     ]
    }
   ],
   "source": [
    "#Создание генератора\n",
    "datagen = ImageDataGenerator(rescale=1. / 255)\n",
    "\n",
    "#Загрузка изображений\n",
    "train_generator = datagen.flow_from_directory(\n",
    "    'data/training',\n",
    "    target_size=(80, 80),\n",
    "    batch_size=30,\n",
    "    class_mode='categorical')\n",
    "\n",
    "val_generator = datagen.flow_from_directory(\n",
    "    'data/valid',\n",
    "    target_size=(80, 80),\n",
    "    batch_size=30,\n",
    "    class_mode='categorical')\n",
    "\n",
    "test_generator = datagen.flow_from_directory(\n",
    "    'data/test',\n",
    "    target_size=(80, 80),\n",
    "    batch_size=30,\n",
    "    class_mode='categorical')\n",
    "\n"
   ]
  },
  {
   "cell_type": "code",
   "execution_count": 4,
   "metadata": {},
   "outputs": [],
   "source": [
    "#Создание нейронной сети\n",
    "model = Sequential()\n",
    "model.add(Conv2D(32, (3, 3), input_shape=(80, 80, 3)))\n",
    "model.add(Activation('relu'))\n",
    "model.add(MaxPooling2D(pool_size=(2, 2)))\n",
    "\n",
    "model.add(Conv2D(32, (3, 3)))\n",
    "model.add(Activation('relu'))\n",
    "model.add(MaxPooling2D(pool_size=(2, 2)))\n",
    "\n",
    "model.add(Conv2D(64, (3, 3)))\n",
    "model.add(Activation('relu'))\n",
    "model.add(MaxPooling2D(pool_size=(2, 2)))\n",
    "\n",
    "model.add(Flatten())\n",
    "model.add(Dense(64))\n",
    "model.add(Activation('relu'))\n",
    "model.add(Dropout(0.5))\n",
    "model.add(Dense(9))\n",
    "model.add(Activation('sigmoid'))\n"
   ]
  },
  {
   "cell_type": "code",
   "execution_count": 5,
   "metadata": {},
   "outputs": [],
   "source": [
    "#Компиляция нейронной сети\n",
    "model.compile(loss='categorical_crossentropy',\n",
    "              optimizer='adam',\n",
    "              metrics=['accuracy'])\n"
   ]
  },
  {
   "cell_type": "code",
   "execution_count": 6,
   "metadata": {},
   "outputs": [
    {
     "name": "stdout",
     "output_type": "stream",
     "text": [
      "Epoch 1/9\n",
      "440/440 [==============================] - 782s 2s/step - loss: 0.6034 - acc: 0.8070 - val_loss: 0.0591 - val_acc: 0.9820\n",
      "Epoch 2/9\n",
      "440/440 [==============================] - 614s 1s/step - loss: 0.1654 - acc: 0.9512 - val_loss: 0.0421 - val_acc: 0.9872\n",
      "Epoch 3/9\n",
      "440/440 [==============================] - 577s 1s/step - loss: 0.0994 - acc: 0.9724 - val_loss: 0.0308 - val_acc: 0.9927\n",
      "Epoch 4/9\n",
      "440/440 [==============================] - 594s 1s/step - loss: 0.0668 - acc: 0.9794 - val_loss: 0.0188 - val_acc: 0.9956\n",
      "Epoch 5/9\n",
      "440/440 [==============================] - 580s 1s/step - loss: 0.0619 - acc: 0.9806 - val_loss: 0.0153 - val_acc: 0.9952\n",
      "Epoch 6/9\n",
      "440/440 [==============================] - 567s 1s/step - loss: 0.0509 - acc: 0.9842 - val_loss: 0.0112 - val_acc: 0.9962\n",
      "Epoch 7/9\n",
      "440/440 [==============================] - 589s 1s/step - loss: 0.0440 - acc: 0.9857 - val_loss: 0.0117 - val_acc: 0.9964\n",
      "Epoch 8/9\n",
      "440/440 [==============================] - 578s 1s/step - loss: 0.0418 - acc: 0.9873 - val_loss: 0.0082 - val_acc: 0.9967\n",
      "Epoch 9/9\n",
      "440/440 [==============================] - 564s 1s/step - loss: 0.0391 - acc: 0.9863 - val_loss: 0.0082 - val_acc: 0.9967\n"
     ]
    },
    {
     "data": {
      "text/plain": [
       "<tensorflow.python.keras._impl.keras.callbacks.History at 0x1ae551eabe0>"
      ]
     },
     "execution_count": 6,
     "metadata": {},
     "output_type": "execute_result"
    }
   ],
   "source": [
    "#Обучеие нейронной сети\n",
    "\n",
    "# Размер мини-выборки\n",
    "batch_size = 30\n",
    "# Количество изображений для обучения\n",
    "nb_train_samples = 13220\n",
    "# Количество изображений для проверки\n",
    "nb_validation_samples = 13220\n",
    "# Количество изображений для тестирования\n",
    "nb_test_samples = 255\n",
    "\n",
    "model.fit_generator(\n",
    "    train_generator,\n",
    "    steps_per_epoch=nb_train_samples // batch_size,\n",
    "    epochs=9,\n",
    "    validation_data=val_generator,\n",
    "    validation_steps=nb_validation_samples // batch_size)\n"
   ]
  },
  {
   "cell_type": "code",
   "execution_count": 8,
   "metadata": {},
   "outputs": [
    {
     "name": "stdout",
     "output_type": "stream",
     "text": [
      "Аккуратность на тестовых данных: 94.58%\n"
     ]
    }
   ],
   "source": [
    "scores = model.evaluate_generator(test_generator, nb_test_samples // batch_size)\n",
    "\n",
    "print(\"Аккуратность на тестовых данных: %.2f%%\" % (scores[1]*100))\n",
    "\n",
    "\n",
    "img_path = 'Test_img_ped.jpg'\n",
    "img = image.load_img(img_path, target_size=(80, 80))\n",
    "\n",
    "# Преобразуем изображением в массив numpy\n",
    "x = image.img_to_array(img)\n",
    "\n",
    "# Инвертируем и нормализуем изображение\n",
    "x = 255 - x\n",
    "x /= 255\n",
    "x = np.expand_dims(x, axis=0)\n",
    "prediction = model.predict(x)\n",
    "#print(np.argmax(prediction))\n",
    "\n"
   ]
  },
  {
   "cell_type": "code",
   "execution_count": 20,
   "metadata": {},
   "outputs": [],
   "source": [
    "# Генерируем описание модели в формате json\n",
    "model_json = model.to_json()\n",
    "# Записываем модель в файл\n",
    "json_file = open(\"model_gen_j.json\", \"w\")\n",
    "json_file.write(model_json)\n",
    "json_file.close()\n",
    "model.save_weights(\"model_gen_h.h5\")\n"
   ]
  },
  {
   "cell_type": "code",
   "execution_count": null,
   "metadata": {},
   "outputs": [],
   "source": []
  },
  {
   "cell_type": "code",
   "execution_count": null,
   "metadata": {},
   "outputs": [],
   "source": []
  },
  {
   "cell_type": "code",
   "execution_count": null,
   "metadata": {},
   "outputs": [],
   "source": []
  }
 ],
 "metadata": {
  "kernelspec": {
   "display_name": "Python 3",
   "language": "python",
   "name": "python3"
  },
  "language_info": {
   "codemirror_mode": {
    "name": "ipython",
    "version": 3
   },
   "file_extension": ".py",
   "mimetype": "text/x-python",
   "name": "python",
   "nbconvert_exporter": "python",
   "pygments_lexer": "ipython3",
   "version": "3.6.5"
  }
 },
 "nbformat": 4,
 "nbformat_minor": 2
}

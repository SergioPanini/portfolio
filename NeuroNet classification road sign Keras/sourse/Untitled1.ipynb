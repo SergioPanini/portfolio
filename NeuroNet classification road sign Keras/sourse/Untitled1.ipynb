{
 "cells": [
  {
   "cell_type": "code",
   "execution_count": 1,
   "metadata": {},
   "outputs": [],
   "source": [
    "import cv2\n",
    "import os\n",
    "import glob  # library for loading images from a directory\n",
    "import numpy as np"
   ]
  },
  {
   "cell_type": "code",
   "execution_count": 2,
   "metadata": {},
   "outputs": [
    {
     "ename": "NameError",
     "evalue": "name 'callback' is not defined",
     "output_type": "error",
     "traceback": [
      "\u001b[1;31m---------------------------------------------------------------------------\u001b[0m",
      "\u001b[1;31mNameError\u001b[0m                                 Traceback (most recent call last)",
      "\u001b[1;32m<ipython-input-2-82afb7394db6>\u001b[0m in \u001b[0;36m<module>\u001b[1;34m()\u001b[0m\n\u001b[0;32m     15\u001b[0m \u001b[0mihighV1\u001b[0m \u001b[1;33m=\u001b[0m \u001b[1;36m255\u001b[0m\u001b[1;33m\u001b[0m\u001b[0m\n\u001b[0;32m     16\u001b[0m \u001b[1;31m# create trackbars for color change\u001b[0m\u001b[1;33m\u001b[0m\u001b[1;33m\u001b[0m\u001b[0m\n\u001b[1;32m---> 17\u001b[1;33m \u001b[0mcv2\u001b[0m\u001b[1;33m.\u001b[0m\u001b[0mcreateTrackbar\u001b[0m\u001b[1;33m(\u001b[0m\u001b[1;34m'lowH'\u001b[0m\u001b[1;33m,\u001b[0m \u001b[1;34m'image'\u001b[0m\u001b[1;33m,\u001b[0m \u001b[0milowH\u001b[0m\u001b[1;33m,\u001b[0m \u001b[1;36m255\u001b[0m\u001b[1;33m,\u001b[0m \u001b[0mcallback\u001b[0m\u001b[1;33m)\u001b[0m\u001b[1;33m\u001b[0m\u001b[0m\n\u001b[0m\u001b[0;32m     18\u001b[0m \u001b[0mcv2\u001b[0m\u001b[1;33m.\u001b[0m\u001b[0mcreateTrackbar\u001b[0m\u001b[1;33m(\u001b[0m\u001b[1;34m'highH'\u001b[0m\u001b[1;33m,\u001b[0m \u001b[1;34m'image'\u001b[0m\u001b[1;33m,\u001b[0m \u001b[0mihighH\u001b[0m\u001b[1;33m,\u001b[0m \u001b[1;36m255\u001b[0m\u001b[1;33m,\u001b[0m \u001b[0mcallback\u001b[0m\u001b[1;33m)\u001b[0m\u001b[1;33m\u001b[0m\u001b[0m\n\u001b[0;32m     19\u001b[0m \u001b[1;33m\u001b[0m\u001b[0m\n",
      "\u001b[1;31mNameError\u001b[0m: name 'callback' is not defined"
     ]
    }
   ],
   "source": [
    "def callback(x):\n",
    "    pass\n",
    "\n",
    "cv2.namedWindow('image')\n",
    "\n",
    "ilowH = 0\n",
    "ihighH = 8\n",
    "ilowS = 60\n",
    "ihighS = 255\n",
    "ilowV = 25\n",
    "ihighV = 255\n",
    "\n",
    "ilowH1 = 169\n",
    "ihighH1 = 255\n",
    "ilowS1 = 14\n",
    "ihighS1 = 255\n",
    "ilowV1 = 25\n",
    "ihighV1 = 255\n",
    "# create trackbars for color change\n",
    "cv2.createTrackbar('lowH', 'image', ilowH, 255, callback)\n",
    "cv2.createTrackbar('highH', 'image', ihighH, 255, callback)\n",
    "\n",
    "cv2.createTrackbar('lowS', 'image', ilowS, 255, callback)\n",
    "cv2.createTrackbar('highS', 'image', ihighS, 255, callback)\n",
    "\n",
    "cv2.createTrackbar('lowV', 'image', ilowV, 255, callback)\n",
    "cv2.createTrackbar('highV', 'image', ihighV, 255, callback)\n",
    "\n",
    "cv2.createTrackbar('lowH1', 'image', ilowH1, 255, callback)\n",
    "cv2.createTrackbar('highH1', 'image', ihighH1, 255, callback)\n",
    "\n",
    "cv2.createTrackbar('lowS1', 'image', ilowS1, 255, callback)\n",
    "cv2.createTrackbar('highS1', 'image', ihighS1, 255, callback)\n",
    "\n",
    "cv2.createTrackbar('lowV1', 'image', ilowV1, 255, callback)\n",
    "cv2.createTrackbar('highV1', 'image', ihighV1, 255, callback)\n"
   ]
  },
  {
   "cell_type": "code",
   "execution_count": null,
   "metadata": {},
   "outputs": [],
   "source": [
    "while True:\n",
    "    # grab the frame\n",
    "    frame = cv2.imread(url1)\n",
    "    frame = cv2.resize(frame, (512,512))"
   ]
  }
 ],
 "metadata": {
  "kernelspec": {
   "display_name": "Python 3",
   "language": "python",
   "name": "python3"
  },
  "language_info": {
   "codemirror_mode": {
    "name": "ipython",
    "version": 3
   },
   "file_extension": ".py",
   "mimetype": "text/x-python",
   "name": "python",
   "nbconvert_exporter": "python",
   "pygments_lexer": "ipython3",
   "version": "3.6.5"
  }
 },
 "nbformat": 4,
 "nbformat_minor": 2
}

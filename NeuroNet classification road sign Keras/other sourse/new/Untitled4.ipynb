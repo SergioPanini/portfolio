{
 "cells": [
  {
   "cell_type": "code",
   "execution_count": 11,
   "metadata": {
    "scrolled": true
   },
   "outputs": [
    {
     "name": "stdout",
     "output_type": "stream",
     "text": [
      "Epoch 1/6\n",
      "60000/60000 [==============================] - 80s 1ms/step - loss: 0.2189 - acc: 0.9358\n",
      "Epoch 2/6\n",
      "60000/60000 [==============================] - 75s 1ms/step - loss: 0.0973 - acc: 0.9703\n",
      "Epoch 3/6\n",
      "60000/60000 [==============================] - 71s 1ms/step - loss: 0.0688 - acc: 0.9789\n",
      "Epoch 4/6\n",
      "60000/60000 [==============================] - 70s 1ms/step - loss: 0.0530 - acc: 0.9834\n",
      "Epoch 5/6\n",
      "60000/60000 [==============================] - 69s 1ms/step - loss: 0.0435 - acc: 0.9863\n",
      "Epoch 6/6\n",
      "60000/60000 [==============================] - 73s 1ms/step - loss: 0.0374 - acc: 0.9867\n",
      "10000/10000 [==============================] - 2s 235us/step\n"
     ]
    },
    {
     "data": {
      "text/plain": [
       "[0.07252581738998415, 0.9791]"
      ]
     },
     "execution_count": 11,
     "metadata": {},
     "output_type": "execute_result"
    }
   ],
   "source": [
    "import tensorflow as tf\n",
    "mnist = tf.keras.datasets.mnist\n",
    "\n",
    "(x_train, y_train),(x_test, y_test) = mnist.load_data()\n",
    "x_train, x_test = x_train / 255.0, x_test / 255.0\n",
    "\n",
    "model = tf.keras.models.Sequential([\n",
    "  tf.keras.layers.Flatten(),\n",
    "  tf.keras.layers.Dense(512, activation=tf.nn.relu),\n",
    " # tf.keras.layers.Dense(100, activation=tf.nn.relu),\n",
    "  tf.keras.layers.Dropout(0.2),\n",
    "  tf.keras.layers.Dense(10, activation=tf.nn.softmax)\n",
    "])\n",
    "model.compile(optimizer='adam',\n",
    "              loss='sparse_categorical_crossentropy',\n",
    "              metrics=['accuracy'])\n",
    "\n",
    "model.fit(x_train, y_train, epochs=6)\n",
    "model.evaluate(x_test, y_test)\n"
   ]
  },
  {
   "cell_type": "code",
   "execution_count": null,
   "metadata": {},
   "outputs": [],
   "source": []
  }
 ],
 "metadata": {
  "kernelspec": {
   "display_name": "Python 3",
   "language": "python",
   "name": "python3"
  },
  "language_info": {
   "codemirror_mode": {
    "name": "ipython",
    "version": 3
   },
   "file_extension": ".py",
   "mimetype": "text/x-python",
   "name": "python",
   "nbconvert_exporter": "python",
   "pygments_lexer": "ipython3",
   "version": "3.6.5"
  }
 },
 "nbformat": 4,
 "nbformat_minor": 2
}

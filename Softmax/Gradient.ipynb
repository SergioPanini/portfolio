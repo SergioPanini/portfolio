{
 "cells": [
  {
   "cell_type": "code",
   "execution_count": 2,
   "metadata": {},
   "outputs": [],
   "source": [
    "import numpy as np"
   ]
  },
  {
   "cell_type": "code",
   "execution_count": 21,
   "metadata": {},
   "outputs": [
    {
     "data": {
      "text/plain": [
       "21.085536923187668"
      ]
     },
     "execution_count": 21,
     "metadata": {},
     "output_type": "execute_result"
    }
   ],
   "source": [
    "#gradient example\n",
    "w1, x, w0 = 2, 1, 1\n",
    "f = 1 + np.exp(w1 * x + w0)\n",
    "f"
   ]
  },
  {
   "cell_type": "code",
   "execution_count": 9,
   "metadata": {},
   "outputs": [
    {
     "name": "stdout",
     "output_type": "stream",
     "text": [
      "21.085536923187668\n"
     ]
    }
   ],
   "source": [
    "a = x*w1\n",
    "b = a + w0\n",
    "c = np.exp(b)\n",
    "f = 1 + c\n",
    "print(f)"
   ]
  },
  {
   "cell_type": "code",
   "execution_count": 13,
   "metadata": {},
   "outputs": [
    {
     "name": "stdout",
     "output_type": "stream",
     "text": [
      "1\n",
      "1\n",
      "20.085536923187668\n",
      "20.085536923187668\n",
      "20.085536923187668\n",
      "20.085536923187668\n"
     ]
    }
   ],
   "source": [
    "df = 1\n",
    "dc = 1\n",
    "db = dc * np.exp(b)\n",
    "dw0 = db * 1\n",
    "da = db * 1\n",
    "dw1 = da * x\n",
    "dx = da * w1\n",
    "\n",
    "print(df)\n",
    "print(dc)\n",
    "print(db)\n",
    "print(dw0)\n",
    "print(da)\n",
    "print(dw1)\n"
   ]
  },
  {
   "cell_type": "code",
   "execution_count": 44,
   "metadata": {},
   "outputs": [],
   "source": [
    "#data for softmax\n",
    "class sft():\n",
    "    XY = 10\n",
    "    c = 10\n",
    "    img = np.array([range(XY)])\n",
    "\n",
    "    w = np.array([range(c) for i in range(XY)])\n",
    "\n",
    "    b = np.array(range(c))\n",
    "        \n",
    "    res = None\n",
    "    softmax = None\n",
    "    \n",
    "    def run(self):\n",
    "        self.res = self.img.dot(self.w) + self.b\n",
    "    \n",
    "    def softmax(self):\n",
    "        self.run()\n",
    "        sm = 0\n",
    "        for i in range(self.c):\n",
    "            sm = sm + np.exp(self.res[0][i])\n",
    "        self.softmax = [np.exp(i) / sm for i in self.res[0]]\n",
    "    \n",
    "    def print_shape(self):\n",
    "        print(self.img.shape)\n",
    "        print(self.w.shape)\n",
    "        print(self.b.shape)"
   ]
  },
  {
   "cell_type": "code",
   "execution_count": 47,
   "metadata": {},
   "outputs": [
    {
     "name": "stdout",
     "output_type": "stream",
     "text": [
      "(1, 10)\n",
      "(10, 10)\n",
      "(10,)\n"
     ]
    }
   ],
   "source": [
    "k = sft\n",
    "k.print_shape(k)\n"
   ]
  },
  {
   "cell_type": "code",
   "execution_count": 15,
   "metadata": {},
   "outputs": [
    {
     "name": "stdout",
     "output_type": "stream",
     "text": [
      "img (1, 10)\n",
      "w (10, 10)\n",
      "b (10,)\n"
     ]
    }
   ],
   "source": [
    "print('img', img.shape)\n",
    "print('w', w.shape)\n",
    "print('b', b.shape)"
   ]
  },
  {
   "cell_type": "code",
   "execution_count": 17,
   "metadata": {},
   "outputs": [
    {
     "name": "stdout",
     "output_type": "stream",
     "text": [
      "f (1, 10)\n",
      "[[  0  46  92 138 184 230 276 322 368 414]]\n"
     ]
    }
   ],
   "source": [
    "f = img.dot(w) + b\n",
    "print('f', f.shape)\n",
    "print(f)"
   ]
  },
  {
   "cell_type": "code",
   "execution_count": 18,
   "metadata": {},
   "outputs": [
    {
     "name": "stdout",
     "output_type": "stream",
     "text": [
      "[1.5925185216216938e-180, 1.5122746060840865e-160, 1.4360740256119015e-140, 1.3637130444035917e-120, 1.2949981925089835e-100, 1.2297457485529629e-80, 1.1677812485237085e-60, 1.1089390193121365e-40, 1.0530617357553813e-20, 1.0]\n"
     ]
    }
   ],
   "source": [
    "def softmax(f):\n",
    "    sm = 0\n",
    "    for i in range(c):\n",
    "        sm = sm + np.exp(f[0][i])\n",
    "    \n",
    "    return [np.exp(i) / sm for i in f[0]]\n",
    "print(softmax(f))\n",
    "#print([round(i) for i in softmax(f)])"
   ]
  },
  {
   "cell_type": "code",
   "execution_count": 22,
   "metadata": {},
   "outputs": [],
   "source": [
    "#gradient for softmax data\n",
    "def gr()"
   ]
  }
 ],
 "metadata": {
  "kernelspec": {
   "display_name": "Python 3",
   "language": "python",
   "name": "python3"
  },
  "language_info": {
   "codemirror_mode": {
    "name": "ipython",
    "version": 3
   },
   "file_extension": ".py",
   "mimetype": "text/x-python",
   "name": "python",
   "nbconvert_exporter": "python",
   "pygments_lexer": "ipython3",
   "version": "3.6.8"
  }
 },
 "nbformat": 4,
 "nbformat_minor": 2
}
